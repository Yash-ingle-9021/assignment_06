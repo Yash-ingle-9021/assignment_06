{
 "cells": [
  {
   "cell_type": "code",
   "execution_count": 108,
   "metadata": {},
   "outputs": [
    {
     "name": "stdout",
     "output_type": "stream",
     "text": [
      "6th Feb :- ASSIGNMENT_06\n"
     ]
    }
   ],
   "source": [
    "print(\"6th Feb :- ASSIGNMENT_06\")"
   ]
  },
  {
   "cell_type": "code",
   "execution_count": 107,
   "metadata": {},
   "outputs": [
    {
     "name": "stdout",
     "output_type": "stream",
     "text": [
      "Q_1_ANS :- \n",
      " list :- \n",
      "[1, 2, 3, 4, 44, 55, 66, 34, 56, 78, 89, 34, 1, 2, 3, 34, 55, 67, 78, 89, 45, 22, 61, 34, 56]\n",
      "The product of all the number :- \n",
      "1033677959746771369708460310528000\n"
     ]
    }
   ],
   "source": [
    "print(\"Q_1_ANS :- \")\n",
    "l = [1,2,3,4,[44,55,66,True],False,(34,56,78,89,34),{1,2,3,2,1},{1:34,\"ket2\":[55,67,78,89],4:(45,22,61,34)},[56,'data science'],'Machine Learning']\n",
    "class class1:\n",
    " \n",
    " def func(self,l):\n",
    "     l1=[]\n",
    "   \n",
    "     for i in l:\n",
    "            if type(i)==list:\n",
    "                for j in i:\n",
    "                 if type(j)== int:\n",
    "                  l1.append(j)\n",
    "            elif type(i)==tuple :\n",
    "                for k in i:\n",
    "                     if type(k)== int:\n",
    "                      l1.append(k)\n",
    "                      \n",
    "            elif type(i)==set :\n",
    "                for a in i:\n",
    "                     if type(a)== int:\n",
    "                      l1.append(a)\n",
    "\n",
    "            elif type(i)==dict :\n",
    "                      for i in i.values():\n",
    "                       if type(i)== int:\n",
    "                        l1.append(i)\n",
    "\n",
    "                       if type(i)== list:\n",
    "                        for n in i:\n",
    "                         l1.append(n)\n",
    "\n",
    "                       if type(i)== tuple:\n",
    "                        for r in i:\n",
    "                         l1.append(r)\n",
    "                   \n",
    "            else:\n",
    "                if type(i)== int:\n",
    "                   l1.append(i) \n",
    "     print(\" list :- \")              \n",
    "     print(l1)\n",
    " \n",
    "     from functools import reduce\n",
    "     result1 = reduce((lambda x, y: x * y), l1)\n",
    "     print(\"The product of all the number :- \")\n",
    "     print(result1)\n",
    "\n",
    "pro_list = class1()\n",
    "pro_list.func(l)\n",
    "\n",
    "\n",
    "\n"
   ]
  },
  {
   "cell_type": "code",
   "execution_count": 127,
   "metadata": {},
   "outputs": [
    {
     "name": "stdout",
     "output_type": "stream",
     "text": [
      "Q_2_ANS :- \n",
      "z$zzzz$zz$yzxzzz$z$zzzz$zxzzzzzzz\n"
     ]
    }
   ],
   "source": [
    "print(\"Q_2_ANS :- \")\n",
    "\n",
    "encrypt = \"I want to become a Data Scientist\"\n",
    "encrypt1 = encrypt.lower()\n",
    "\n",
    "dict = {\" \": \"$\", \"i\": \"z\", \"w\": \"z\", \"a\": \"z\", \"n\": \"z\", \"t\": \"z\", \"o\": \"z\", \"e\": \"z\", \"m\": \"z\", \"d\": \"z\", \"s\": \"z\", \"b\": \"y\",\n",
    "\t\t\"c\": \"x\"}\n",
    "\n",
    "num = encrypt1[0::]\n",
    "\n",
    "for i in dict:\n",
    "\tnum = num.replace(i, dict[i])\n",
    "\n",
    "print(num)\n"
   ]
  },
  {
   "cell_type": "code",
   "execution_count": null,
   "metadata": {},
   "outputs": [],
   "source": []
  }
 ],
 "metadata": {
  "kernelspec": {
   "display_name": "Python 3",
   "language": "python",
   "name": "python3"
  },
  "language_info": {
   "codemirror_mode": {
    "name": "ipython",
    "version": 3
   },
   "file_extension": ".py",
   "mimetype": "text/x-python",
   "name": "python",
   "nbconvert_exporter": "python",
   "pygments_lexer": "ipython3",
   "version": "3.10.0"
  },
  "orig_nbformat": 4,
  "vscode": {
   "interpreter": {
    "hash": "fdeaa5d4d36968213c2982d2716b964fdcbe01a872db07f82123c6518902f24d"
   }
  }
 },
 "nbformat": 4,
 "nbformat_minor": 2
}
